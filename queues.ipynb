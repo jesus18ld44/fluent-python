{
 "cells": [
  {
   "cell_type": "code",
   "execution_count": 41,
   "id": "afdbdd24",
   "metadata": {},
   "outputs": [],
   "source": [
    "from collections import deque\n",
    "\n",
    "dq = deque(range(10), maxlen=10)  # deques can be bounded"
   ]
  },
  {
   "cell_type": "code",
   "execution_count": 42,
   "id": "c8d7d85f",
   "metadata": {},
   "outputs": [
    {
     "data": {
      "text/plain": [
       "deque([0, 1, 2, 3, 4, 5, 6, 7, 8, 9])"
      ]
     },
     "execution_count": 42,
     "metadata": {},
     "output_type": "execute_result"
    }
   ],
   "source": [
    "# if a bounded deque is full, when adding new elements it discards an item from the \n",
    "# opposite end\n",
    "\n",
    "dq"
   ]
  },
  {
   "cell_type": "code",
   "execution_count": 43,
   "id": "1ddf7c1a",
   "metadata": {},
   "outputs": [
    {
     "data": {
      "text/plain": [
       "deque([8, 9, 0, 1, 2, 3, 4, 5, 6, 7])"
      ]
     },
     "execution_count": 43,
     "metadata": {},
     "output_type": "execute_result"
    }
   ],
   "source": [
    "dq.rotate(2)\n",
    "dq"
   ]
  },
  {
   "cell_type": "code",
   "execution_count": 44,
   "id": "23f80038",
   "metadata": {},
   "outputs": [],
   "source": [
    "dq.rotate(-4)"
   ]
  },
  {
   "cell_type": "code",
   "execution_count": 45,
   "id": "2a3f69a4",
   "metadata": {},
   "outputs": [
    {
     "data": {
      "text/plain": [
       "deque([2, 3, 4, 5, 6, 7, 8, 9, 0, 1])"
      ]
     },
     "execution_count": 45,
     "metadata": {},
     "output_type": "execute_result"
    }
   ],
   "source": [
    "dq"
   ]
  },
  {
   "cell_type": "code",
   "execution_count": 46,
   "id": "4029ab50",
   "metadata": {},
   "outputs": [],
   "source": [
    "dq.append(1)    # append to the right, and discards from the left"
   ]
  },
  {
   "cell_type": "code",
   "execution_count": 47,
   "id": "13572182",
   "metadata": {},
   "outputs": [
    {
     "data": {
      "text/plain": [
       "deque([3, 4, 5, 6, 7, 8, 9, 0, 1, 1])"
      ]
     },
     "execution_count": 47,
     "metadata": {},
     "output_type": "execute_result"
    }
   ],
   "source": [
    "dq"
   ]
  },
  {
   "cell_type": "code",
   "execution_count": 48,
   "id": "e2734e77",
   "metadata": {},
   "outputs": [],
   "source": [
    "dq.appendleft('c')"
   ]
  },
  {
   "cell_type": "code",
   "execution_count": 49,
   "id": "1cac45e1",
   "metadata": {},
   "outputs": [
    {
     "data": {
      "text/plain": [
       "deque(['c', 3, 4, 5, 6, 7, 8, 9, 0, 1])"
      ]
     },
     "execution_count": 49,
     "metadata": {},
     "output_type": "execute_result"
    }
   ],
   "source": [
    "dq"
   ]
  },
  {
   "cell_type": "code",
   "execution_count": 50,
   "id": "6af575c1",
   "metadata": {},
   "outputs": [],
   "source": [
    "dq.append([1,1])"
   ]
  },
  {
   "cell_type": "code",
   "execution_count": 51,
   "id": "d293e249",
   "metadata": {},
   "outputs": [
    {
     "data": {
      "text/plain": [
       "deque([3, 4, 5, 6, 7, 8, 9, 0, 1, [1, 1]])"
      ]
     },
     "execution_count": 51,
     "metadata": {},
     "output_type": "execute_result"
    }
   ],
   "source": [
    "dq"
   ]
  },
  {
   "cell_type": "code",
   "execution_count": 52,
   "id": "6d201e62",
   "metadata": {},
   "outputs": [],
   "source": [
    "dq.extendleft([1,1,1,1])"
   ]
  },
  {
   "cell_type": "code",
   "execution_count": 55,
   "id": "158080ab",
   "metadata": {},
   "outputs": [],
   "source": [
    "dq.extendleft(range(10, 14))  # appends each succesive item, therefore the final position of the items is reversed"
   ]
  },
  {
   "cell_type": "code",
   "execution_count": 56,
   "id": "2f2ffa12",
   "metadata": {},
   "outputs": [
    {
     "data": {
      "text/plain": [
       "deque([13, 12, 11, 10, 13, 12, 11, 10, 1, 1])"
      ]
     },
     "execution_count": 56,
     "metadata": {},
     "output_type": "execute_result"
    }
   ],
   "source": [
    "dq"
   ]
  },
  {
   "cell_type": "code",
   "execution_count": 57,
   "id": "7c63b78f",
   "metadata": {},
   "outputs": [
    {
     "data": {
      "text/plain": [
       "13"
      ]
     },
     "execution_count": 57,
     "metadata": {},
     "output_type": "execute_result"
    }
   ],
   "source": [
    "dq.popleft()"
   ]
  },
  {
   "cell_type": "code",
   "execution_count": 59,
   "id": "ae1620d1",
   "metadata": {},
   "outputs": [
    {
     "data": {
      "text/plain": [
       "9"
      ]
     },
     "execution_count": 59,
     "metadata": {},
     "output_type": "execute_result"
    }
   ],
   "source": [
    "len(dq)"
   ]
  }
 ],
 "metadata": {
  "kernelspec": {
   "display_name": "Python 3 (ipykernel)",
   "language": "python",
   "name": "python3"
  },
  "language_info": {
   "codemirror_mode": {
    "name": "ipython",
    "version": 3
   },
   "file_extension": ".py",
   "mimetype": "text/x-python",
   "name": "python",
   "nbconvert_exporter": "python",
   "pygments_lexer": "ipython3",
   "version": "3.10.4"
  }
 },
 "nbformat": 4,
 "nbformat_minor": 5
}
