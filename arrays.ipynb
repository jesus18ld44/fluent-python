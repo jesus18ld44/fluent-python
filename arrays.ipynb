{
 "cells": [
  {
   "cell_type": "code",
   "execution_count": 21,
   "id": "0cc1a21a",
   "metadata": {},
   "outputs": [],
   "source": [
    "from array import array\n",
    "\n",
    "row1 = array('B', [1,1,1])\n",
    "row2 = array('B', [2,2,2])\n",
    "\n",
    "arr = array('B', row1)"
   ]
  },
  {
   "cell_type": "code",
   "execution_count": 22,
   "id": "cbe2dee3",
   "metadata": {},
   "outputs": [
    {
     "data": {
      "text/plain": [
       "array('B', [1, 1, 1])"
      ]
     },
     "execution_count": 22,
     "metadata": {},
     "output_type": "execute_result"
    }
   ],
   "source": [
    "arr"
   ]
  },
  {
   "cell_type": "code",
   "execution_count": 44,
   "id": "d090b3d3",
   "metadata": {},
   "outputs": [
    {
     "data": {
      "text/plain": [
       "[[array('B', [1, 1, 1]), array('B', [2, 2, 2])]]"
      ]
     },
     "execution_count": 44,
     "metadata": {},
     "output_type": "execute_result"
    }
   ],
   "source": [
    "l1 = [[row1, row2] for i in range(1)]\n",
    "l1"
   ]
  },
  {
   "cell_type": "code",
   "execution_count": 47,
   "id": "6e90d106",
   "metadata": {},
   "outputs": [
    {
     "ename": "TypeError",
     "evalue": "'array.array' object cannot be interpreted as an integer",
     "output_type": "error",
     "traceback": [
      "\u001b[0;31m---------------------------------------------------------------------------\u001b[0m",
      "\u001b[0;31mTypeError\u001b[0m                                 Traceback (most recent call last)",
      "Input \u001b[0;32mIn [47]\u001b[0m, in \u001b[0;36m<cell line: 1>\u001b[0;34m()\u001b[0m\n\u001b[0;32m----> 1\u001b[0m arr2 \u001b[38;5;241m=\u001b[39m \u001b[43marray\u001b[49m\u001b[43m(\u001b[49m\u001b[38;5;124;43m'\u001b[39;49m\u001b[38;5;124;43mB\u001b[39;49m\u001b[38;5;124;43m'\u001b[39;49m\u001b[43m,\u001b[49m\u001b[43m \u001b[49m\u001b[38;5;241;43m*\u001b[39;49m\u001b[43ml1\u001b[49m\u001b[43m)\u001b[49m\n",
      "\u001b[0;31mTypeError\u001b[0m: 'array.array' object cannot be interpreted as an integer"
     ]
    }
   ],
   "source": [
    "arr2 = array('B', *l1)"
   ]
  },
  {
   "cell_type": "code",
   "execution_count": 51,
   "id": "d908c427",
   "metadata": {
    "scrolled": true
   },
   "outputs": [],
   "source": [
    "arr2 = array('B', row1)"
   ]
  },
  {
   "cell_type": "code",
   "execution_count": 53,
   "id": "3251529f",
   "metadata": {},
   "outputs": [],
   "source": [
    "arr2.extend(row2)"
   ]
  },
  {
   "cell_type": "code",
   "execution_count": 55,
   "id": "e8f81571",
   "metadata": {},
   "outputs": [],
   "source": [
    "arr2.insert(3, 0)"
   ]
  },
  {
   "cell_type": "code",
   "execution_count": 60,
   "id": "938e4fc0",
   "metadata": {},
   "outputs": [
    {
     "data": {
      "text/plain": [
       "array('B', [1, 1, 1, 0, 2, 2, 2, 2, 2, 2])"
      ]
     },
     "execution_count": 60,
     "metadata": {},
     "output_type": "execute_result"
    }
   ],
   "source": [
    "arr2"
   ]
  },
  {
   "cell_type": "code",
   "execution_count": 64,
   "id": "a6c436fa",
   "metadata": {},
   "outputs": [
    {
     "data": {
      "text/plain": [
       "1"
      ]
     },
     "execution_count": 64,
     "metadata": {},
     "output_type": "execute_result"
    }
   ],
   "source": [
    "arr2.itemsize    # length in bytes of each array item"
   ]
  },
  {
   "cell_type": "code",
   "execution_count": 65,
   "id": "e6bac546",
   "metadata": {},
   "outputs": [
    {
     "data": {
      "text/plain": [
       "'B'"
      ]
     },
     "execution_count": 65,
     "metadata": {},
     "output_type": "execute_result"
    }
   ],
   "source": [
    "arr2.typecode"
   ]
  },
  {
   "cell_type": "code",
   "execution_count": 68,
   "id": "36c20926",
   "metadata": {},
   "outputs": [
    {
     "name": "stdout",
     "output_type": "stream",
     "text": [
      "[1, 1, 1, 0, 2, 2, 2, 2, 2, 2]\n"
     ]
    }
   ],
   "source": [
    "list_fromarray = arr2.tolist()\n",
    "print(list_fromarray)\n"
   ]
  },
  {
   "cell_type": "code",
   "execution_count": 73,
   "id": "9a3c275b",
   "metadata": {},
   "outputs": [
    {
     "data": {
      "text/plain": [
       "array('B', [0, 1, 1, 1, 2, 2, 2, 2, 2, 2])"
      ]
     },
     "execution_count": 73,
     "metadata": {},
     "output_type": "execute_result"
    }
   ],
   "source": [
    "# array does not have an in-place sort method\n",
    "sorted_arr2 = array(arr2.typecode, sorted(arr2))\n",
    "\n",
    "sorted_arr2"
   ]
  },
  {
   "cell_type": "code",
   "execution_count": 80,
   "id": "10816ae7",
   "metadata": {},
   "outputs": [],
   "source": [
    "# memoryview allows to share memory between data-structures\n",
    "# memoryview.cast lets to change the multiple bytes are read or written as units \n",
    "# without moving bits around\n",
    "\n",
    "m1 = memoryview(arr2)\n",
    "m2 = m1.cast('B', [2, 5])"
   ]
  },
  {
   "cell_type": "code",
   "execution_count": 82,
   "id": "f25e9a7e",
   "metadata": {},
   "outputs": [
    {
     "data": {
      "text/plain": [
       "[[1, 1, 1, 0, 2], [2, 2, 2, 2, 2]]"
      ]
     },
     "execution_count": 82,
     "metadata": {},
     "output_type": "execute_result"
    }
   ],
   "source": [
    "m2.tolist()"
   ]
  },
  {
   "cell_type": "code",
   "execution_count": 90,
   "id": "27110ced",
   "metadata": {},
   "outputs": [
    {
     "data": {
      "text/plain": [
       "[[1, 1], [1, 0], [2, 2], [2, 2], [2, 2]]"
      ]
     },
     "execution_count": 90,
     "metadata": {},
     "output_type": "execute_result"
    }
   ],
   "source": [
    "m3 = m1.cast('b', [5, 2])\n",
    "m3.tolist()"
   ]
  },
  {
   "cell_type": "code",
   "execution_count": 98,
   "id": "db5d16a1",
   "metadata": {},
   "outputs": [],
   "source": [
    "m3[1,1] = -2    # the original typecode B is for unsigned, so wraps"
   ]
  },
  {
   "cell_type": "code",
   "execution_count": 99,
   "id": "1ea33437",
   "metadata": {},
   "outputs": [
    {
     "data": {
      "text/plain": [
       "[[1, 1], [1, -2], [2, 2], [2, 2], [2, 2]]"
      ]
     },
     "execution_count": 99,
     "metadata": {},
     "output_type": "execute_result"
    }
   ],
   "source": [
    "m3.tolist()"
   ]
  },
  {
   "cell_type": "code",
   "execution_count": 103,
   "id": "405cb667",
   "metadata": {},
   "outputs": [
    {
     "data": {
      "text/plain": [
       "[[1, 1, 1, 254, 2], [2, 2, 2, 2, 2]]"
      ]
     },
     "execution_count": 103,
     "metadata": {},
     "output_type": "execute_result"
    }
   ],
   "source": [
    "m2.tolist()"
   ]
  },
  {
   "cell_type": "code",
   "execution_count": 105,
   "id": "a18fe3e7",
   "metadata": {},
   "outputs": [
    {
     "data": {
      "text/plain": [
       "[0, 1, 1, 1, 2, 2, 2, 2, 2, 2, '256']"
      ]
     },
     "execution_count": 105,
     "metadata": {},
     "output_type": "execute_result"
    }
   ],
   "source": [
    "l1 = sorted_arr2.tolist()\n",
    "\n",
    "l1.append('256')\n",
    "l1"
   ]
  },
  {
   "cell_type": "code",
   "execution_count": 106,
   "id": "03629019",
   "metadata": {},
   "outputs": [
    {
     "data": {
      "text/plain": [
       "'256'"
      ]
     },
     "execution_count": 106,
     "metadata": {},
     "output_type": "execute_result"
    }
   ],
   "source": [
    "l1.pop()"
   ]
  }
 ],
 "metadata": {
  "kernelspec": {
   "display_name": "Python 3 (ipykernel)",
   "language": "python",
   "name": "python3"
  },
  "language_info": {
   "codemirror_mode": {
    "name": "ipython",
    "version": 3
   },
   "file_extension": ".py",
   "mimetype": "text/x-python",
   "name": "python",
   "nbconvert_exporter": "python",
   "pygments_lexer": "ipython3",
   "version": "3.10.4"
  }
 },
 "nbformat": 4,
 "nbformat_minor": 5
}
